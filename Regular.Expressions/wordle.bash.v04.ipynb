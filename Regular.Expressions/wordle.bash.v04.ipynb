{
 "cells": [
  {
   "cell_type": "markdown",
   "id": "cb830b75-2ccc-42d8-aa30-5caae59ade62",
   "metadata": {},
   "source": [
    "# Using regular expressions to help with Wordle"
   ]
  },
  {
   "cell_type": "markdown",
   "id": "4bd401b2-ce55-47f7-a4f5-03e1b1d81798",
   "metadata": {},
   "source": [
    "## Background"
   ]
  },
  {
   "cell_type": "markdown",
   "id": "c3122891-0882-422b-b853-85120b854580",
   "metadata": {},
   "source": [
    "Wordle is a word-guessing game where the program picks a five letter word from its list and you have six tries to guess it.  \n",
    "That sounds like a pretty big search space for guessing.  I wonder just how big that search space is and if it can be made smaller with the hints that Wordle gives you about previous guesses."
   ]
  },
  {
   "cell_type": "markdown",
   "id": "fe7ac706-5d93-45b1-9f01-5b174b50d754",
   "metadata": {},
   "source": [
    "## Task 1: How big is the search space?"
   ]
  },
  {
   "cell_type": "markdown",
   "id": "99129f01-1b3e-41d0-b549-2f8a3783ebbd",
   "metadata": {},
   "source": [
    "### Background on shell commands and notation"
   ]
  },
  {
   "cell_type": "markdown",
   "id": "4da567f6-18ca-4dcc-9f88-ae3ac760e81b",
   "metadata": {},
   "source": [
    "- `ls` : lists the files in a folder\n",
    "- `cat` : displays the contents of a file\n",
    "- `wc` : counts the number of lines, words, and characters in a file\n",
    "- `sort` : lexicographically ( i.e. numerically, alphabetically ) sorts input lines\n",
    "- `uniq` : colapses duplicates\n",
    "- `head` : displays only the first few lines in a file\n",
    "- `|` : sends ( pipes ) the output of one command into the next command\n",
    "- `>` : sends ( redirects) the output to a file\n",
    "- `grep` : filters lines based on a regular expression\n"
   ]
  },
  {
   "cell_type": "markdown",
   "id": "b3a8e0bf-0476-471f-8ec2-7189883ba00c",
   "metadata": {},
   "source": [
    "How big is our list of five-letter words?"
   ]
  },
  {
   "cell_type": "code",
   "execution_count": null,
   "id": "c1b871ef-684c-48dd-9d7e-3f042a64435f",
   "metadata": {
    "tags": [],
    "trusted": true
   },
   "outputs": [],
   "source": [
    "wc -l words.5"
   ]
  },
  {
   "cell_type": "markdown",
   "id": "fcdd3173-5e10-4aab-9da7-d9ca2ef246db",
   "metadata": {},
   "source": [
    "About 17k.  That's a pretty big search space."
   ]
  },
  {
   "cell_type": "code",
   "execution_count": null,
   "id": "46df40bf-5f0d-4093-92db-8e49ec1a503b",
   "metadata": {
    "trusted": true
   },
   "outputs": [],
   "source": [
    "cp words.5 /tmp/"
   ]
  },
  {
   "cell_type": "markdown",
   "id": "975d5f95-2566-4531-9b8b-01e29ced62ac",
   "metadata": {},
   "source": [
    "An example of piping ..."
   ]
  },
  {
   "cell_type": "code",
   "execution_count": null,
   "id": "659f07cc-a9bf-4f0b-8d1e-ff948df684f3",
   "metadata": {
    "trusted": true
   },
   "outputs": [
    {
     "name": "stdout",
     "output_type": "stream",
     "text": [
      "aahed\n",
      "aalii\n"
     ]
    }
   ],
   "source": [
    "cat /tmp/words.5 2> /dev/null |\n",
    "head -2"
   ]
  },
  {
   "cell_type": "markdown",
   "id": "37e443d9-aa3c-40ea-875d-2a820b74d777",
   "metadata": {},
   "source": [
    "## Task 2: What's a good initial guess to reduce the search space?"
   ]
  },
  {
   "cell_type": "markdown",
   "id": "1fa91587-ef5e-4aeb-a923-e12709d43b3f",
   "metadata": {},
   "source": [
    "Let's create a frequency list of letters."
   ]
  },
  {
   "cell_type": "code",
   "execution_count": 1,
   "id": "c68a75e4-a958-47d2-820d-0b4c211897f8",
   "metadata": {
    "vscode": {
     "languageId": "shellscript"
    }
   },
   "outputs": [
    {
     "name": "stdout",
     "output_type": "stream",
     "text": [
      "   8811 a\n",
      "   8633 e\n",
      "   7764 s\n",
      "   5782 o\n",
      "   5526 r\n",
      "   5273 i\n",
      "   4557 l\n",
      "   4534 t\n",
      "   4295 n\n",
      "   3606 u\n"
     ]
    }
   ],
   "source": [
    "cat /tmp/words.5 |\n",
    "grep -o .  |\n",
    "sort |\n",
    "uniq -c |\n",
    "sort -rn |\n",
    "head"
   ]
  },
  {
   "cell_type": "markdown",
   "id": "ea790c54-62d9-490b-9568-d6214e9f7802",
   "metadata": {},
   "source": [
    "Let's see if there is a five-letter word that contains the top five letters in that frequency list."
   ]
  },
  {
   "cell_type": "code",
   "execution_count": 2,
   "id": "404f9706-0c96-4e68-84a5-849107955f40",
   "metadata": {
    "vscode": {
     "languageId": "shellscript"
    }
   },
   "outputs": [
    {
     "name": "stdout",
     "output_type": "stream",
     "text": [
      "arose\n",
      "seora\n",
      "soare\n"
     ]
    }
   ],
   "source": [
    "# can also be done using sed or awk\n",
    "# sed '/a/!d;/e/!d;/s/!d;/o/!d;/r/!d' /tmp/words.5\n",
    "# awk '/a/ && /e/ && /s/ && /o/ && /r/' /tmp/words.5\n",
    "cat /tmp/words.5 |\n",
    "grep a |\n",
    "grep e |\n",
    "grep s |\n",
    "grep o |\n",
    "grep r\n"
   ]
  },
  {
   "cell_type": "markdown",
   "id": "ab12cb29-eb55-46da-9050-9c46c7ad069c",
   "metadata": {},
   "source": [
    "Woohoo! That worked."
   ]
  },
  {
   "cell_type": "markdown",
   "id": "bcbcb7c5",
   "metadata": {},
   "source": [
    "## Task 3: Evaluate the guess, i.e. play Wordle"
   ]
  },
  {
   "attachments": {},
   "cell_type": "markdown",
   "id": "202acdfd",
   "metadata": {},
   "source": [
    "There are a number of Wordle sites, including the [New York Times](https://www.nytimes.com/games/wordle/index.html).  I'm using the one from wordleplay.com because I can point to a specific game, for example, this one:\n",
    "\n",
    "https://wordleplay.com?challenge=Y3JhdmU=\n",
    "\n",
    "( or [make your own game](https://wordleplay.com/wordle-generator))\n"
   ]
  },
  {
   "cell_type": "markdown",
   "id": "f473f2f7",
   "metadata": {},
   "source": [
    "### The Hints"
   ]
  },
  {
   "cell_type": "markdown",
   "id": "6da1987c",
   "metadata": {},
   "source": [
    "The goal to playing Wordle is to guess a five letter word that the system has picked from a pool of possible five-letter words.  Once you make an initial guess using a valid word ( a non-word guess is not allowed ), then Wordle provides three hints for each letter in the word:\n",
    "\n",
    "1. ( grey ) a mismatch, i.e. the letter is not anywhere in the word\n",
    "1. ( green ) a match of both the letter and its position in the words\n",
    "1. ( yellow ) a match of letter but not position\n",
    "\n",
    "This last hint is actually two hints in one.\n"
   ]
  },
  {
   "cell_type": "markdown",
   "id": "fd95df0b-47d6-4c66-893d-ecb113385b87",
   "metadata": {},
   "source": [
    "### The Guess: arose"
   ]
  },
  {
   "attachments": {},
   "cell_type": "markdown",
   "id": "eae0534c",
   "metadata": {},
   "source": [
    "If the first word guess is \"arose\", then the results are as follows:\n",
    "\n",
    "position | letter | hint ( color )\n",
    "--- | --- | ---\n",
    "1 | A | 3 ( yellow )\n",
    "2 | R | 2 ( green )\n",
    "3 | O | 1 ( grey )\n",
    "4 | S | 1 ( grey )\n",
    "5 | E | 2 ( green )\n",
    "\n",
    "This means the letters O and S are not in the word ( hint 1 ).\n",
    "And the letters R and E are in the word and in the right position ( hint 2 ).\n",
    "Finally, the letter A is in the word, but in the wrong position ( hint 3 )\n",
    "\n"
   ]
  },
  {
   "cell_type": "markdown",
   "id": "6d9a1e85-4020-443d-affd-a53ce439a984",
   "metadata": {},
   "source": [
    "### The rules"
   ]
  },
  {
   "cell_type": "markdown",
   "id": "f118ea02-f6e8-4ed0-a0f5-659b98dc03b0",
   "metadata": {},
   "source": [
    "We can turn those three hints into four selection/exclusion rules and rearrange the order a bit:\n",
    "\n",
    "1. ( hint 3a ) select for letters that exist somewhere\n",
    "1. ( hint 1 ) exclude letters that do not exist anywhere\n",
    "1. ( hint 2 ) select for letters that exist at a position\n",
    "1. ( hint 3b ) exclude letters that do not exist at a position"
   ]
  },
  {
   "cell_type": "markdown",
   "id": "b97f1801",
   "metadata": {},
   "source": [
    "### Regular Expression for Rule 1"
   ]
  },
  {
   "attachments": {},
   "cell_type": "markdown",
   "id": "bf6ebbbb-5fbf-4510-93a7-efa26432d402",
   "metadata": {},
   "source": [
    "( hint 3a ) select for letters that exist somewhere\n",
    "\n",
    "\"... the letter A is in the word, ...\"\n"
   ]
  },
  {
   "cell_type": "code",
   "execution_count": 5,
   "id": "68bf2baa",
   "metadata": {
    "vscode": {
     "languageId": "shellscript"
    }
   },
   "outputs": [],
   "source": [
    "cat /tmp/words.5 |\n",
    "grep a |\n",
    "cat > /tmp/words.5.g1.r1\n"
   ]
  },
  {
   "cell_type": "markdown",
   "id": "585832f2",
   "metadata": {},
   "source": [
    "In this case we pass to grep the literals r and s as filters."
   ]
  },
  {
   "cell_type": "code",
   "execution_count": 11,
   "id": "62b049b0-e5b8-4e5c-9e85-87e60e4a3a80",
   "metadata": {
    "vscode": {
     "languageId": "shellscript"
    }
   },
   "outputs": [
    {
     "name": "stdout",
     "output_type": "stream",
     "text": [
      "2389 /tmp/words.5.g1.r1\n",
      "murex\n",
      "harem\n",
      "arake\n"
     ]
    }
   ],
   "source": [
    "wc -l /tmp/words.5.g1.r1\n",
    "shuf -n 3 /tmp/words.5.g1.r1\n"
   ]
  },
  {
   "cell_type": "markdown",
   "id": "ba41dbaa-c71e-490a-b5c1-8042fa6a47c3",
   "metadata": {},
   "source": [
    "Notice that every word as both an R and an E.\n",
    "Also, we have reduced the solution space from 17k down to about 2.5k with just one rule."
   ]
  },
  {
   "cell_type": "markdown",
   "id": "0ffdfb1e",
   "metadata": {},
   "source": [
    "### Regular Expression for Rule 2"
   ]
  },
  {
   "cell_type": "markdown",
   "id": "693fe119",
   "metadata": {},
   "source": [
    "( hint 1 ) exclude letters that do not exist anywhere\n",
    "\n",
    "\"... the letters O and S are not in the word ...\""
   ]
  },
  {
   "cell_type": "code",
   "execution_count": 9,
   "id": "c1175614",
   "metadata": {
    "vscode": {
     "languageId": "shellscript"
    }
   },
   "outputs": [],
   "source": [
    "cat /tmp/words.5.g1.r1 |\n",
    "grep -v o |\n",
    "grep -v s |\n",
    "cat > /tmp/words.5.g1.r2\n"
   ]
  },
  {
   "cell_type": "markdown",
   "id": "599f4166-87be-4652-801f-698446e3feeb",
   "metadata": {},
   "source": [
    "The '-v' option to grep is means exclude.  So, here were are excluding everything that has the letter O and then excluding everything that has the letter S."
   ]
  },
  {
   "cell_type": "code",
   "execution_count": 12,
   "id": "6fcb9f2d-0362-48a0-809e-c6c8a81a37c6",
   "metadata": {
    "vscode": {
     "languageId": "shellscript"
    }
   },
   "outputs": [
    {
     "name": "stdout",
     "output_type": "stream",
     "text": [
      "1410 /tmp/words.5.g1.r2\n",
      "crena\n",
      "cider\n",
      "repad\n"
     ]
    }
   ],
   "source": [
    "wc -l /tmp/words.5.g1.r2\n",
    "shuf -n 3 /tmp/words.5.g1.r2\n"
   ]
  },
  {
   "cell_type": "markdown",
   "id": "0d313485-1440-408c-858d-53b8b7de2b0d",
   "metadata": {},
   "source": [
    "### Regular Expression for Rule 3"
   ]
  },
  {
   "cell_type": "markdown",
   "id": "c8c2a28b-cbba-43bc-8f25-741ef84e3d0b",
   "metadata": {},
   "source": [
    "( hint 2 ) select for letters that exist at a position\n",
    "\n",
    "\"And that the letter A is in the word and at the right position ...\""
   ]
  },
  {
   "cell_type": "code",
   "execution_count": 20,
   "id": "e0d7a7d1-6275-438a-9ecb-cfc252f51a5e",
   "metadata": {
    "vscode": {
     "languageId": "shellscript"
    }
   },
   "outputs": [],
   "source": [
    "cat /tmp/words.5.g1.r3 |\n",
    "grep -v ^.r |\n",
    "grep -v e$ |\n",
    "cat > /tmp/words.5.g1.r4\n"
   ]
  },
  {
   "cell_type": "markdown",
   "id": "1b2b67e0",
   "metadata": {},
   "source": [
    "The caret ( '^' ) is a symbol that matches the beginning of a line.  And since the list is one word per line, it matches the beginning of a word.  As such it it known as an anchor because it anchors the regular expression to a fixed location, the beginning of the line.  So this regular expression matches all words that begin with the letter 'a'.  "
   ]
  },
  {
   "cell_type": "code",
   "execution_count": 22,
   "id": "47fb9ecf-8a47-4213-8435-fcaea9d27a55",
   "metadata": {
    "vscode": {
     "languageId": "shellscript"
    }
   },
   "outputs": [
    {
     "name": "stdout",
     "output_type": "stream",
     "text": [
      "51 /tmp/words.5.g1.r4\n",
      "ameer\n",
      "aired\n",
      "acher\n"
     ]
    }
   ],
   "source": [
    "wc -l /tmp/words.5.g1.r4\n",
    "shuf -n 3 /tmp/words.5.g1.r4\n"
   ]
  },
  {
   "cell_type": "markdown",
   "id": "3e63ff2b-d346-4ab6-b44d-ecbc0dbd56d5",
   "metadata": {},
   "source": [
    "### Regular Expression for Rule 4"
   ]
  },
  {
   "cell_type": "markdown",
   "id": "37f01d3e-0073-4cfd-8f07-6ca683257ff0",
   "metadata": {},
   "source": [
    "( hint 3b ) exclude letters that do not exist at a position\n",
    "\n",
    "\"... the letters R and E are ... in the wrong position ...\"\n"
   ]
  },
  {
   "cell_type": "code",
   "execution_count": 20,
   "id": "acf01f1f",
   "metadata": {
    "vscode": {
     "languageId": "shellscript"
    }
   },
   "outputs": [],
   "source": [
    "cat /tmp/words.5.g1.r3 |\n",
    "grep -v ^.r |\n",
    "grep -v e$ |\n",
    "cat > /tmp/words.5.g1.r4\n"
   ]
  },
  {
   "cell_type": "markdown",
   "id": "f45102a5-04f9-4628-9f25-15780c07341c",
   "metadata": {},
   "source": [
    "We have seen the caret (^) and the exclusion option (-v) before.  Here we introduce the dot (.), which is a symbol that represents ANY character.  So, we first exclude any line that begins (^) with ANY character (.) followed by an r.  That is, we exclude any word with an r in the second position.\n",
    "\n",
    "We then introduce the dollar sign ($), which is another anchor symbol that represents the end of the line.  Again, since each word is on its own line, we are using it as a proxy for the end of the word.  So, we are excluding any line that ends with an e.  That is, we exclude any word with an e in the last position.\n"
   ]
  },
  {
   "cell_type": "code",
   "execution_count": 22,
   "id": "823e8afc",
   "metadata": {
    "vscode": {
     "languageId": "shellscript"
    }
   },
   "outputs": [
    {
     "name": "stdout",
     "output_type": "stream",
     "text": [
      "51 /tmp/words.5.g1.r4\n",
      "ameer\n",
      "aired\n",
      "acher\n"
     ]
    }
   ],
   "source": [
    "wc -l /tmp/words.5.g1.r4\n",
    "shuf -n 3 /tmp/words.5.g1.r4\n"
   ]
  },
  {
   "cell_type": "markdown",
   "id": "a6985e05",
   "metadata": {},
   "source": [
    "With just one guess and applying the four rules, we have gone from a search space of about 17k down to 51 words with the help of regular expressions.  Now, the question is, what should be our next guess?"
   ]
  },
  {
   "cell_type": "markdown",
   "id": "e099b788",
   "metadata": {},
   "source": [
    "## Task 4: Guess second word"
   ]
  },
  {
   "cell_type": "markdown",
   "id": "668b2d74",
   "metadata": {},
   "source": [
    "At this point we redo some of the commands that we've done initially: generate a frequency table of letters and find a word that has the most common letters."
   ]
  },
  {
   "cell_type": "code",
   "execution_count": 23,
   "id": "22bd8367",
   "metadata": {
    "vscode": {
     "languageId": "shellscript"
    }
   },
   "outputs": [
    {
     "name": "stdout",
     "output_type": "stream",
     "text": [
      "     55 a\n",
      "     53 r\n",
      "     52 e\n",
      "     12 t\n",
      "     11 i\n",
      "     10 d\n",
      "      8 b\n",
      "      7 n\n",
      "      6 m\n",
      "      6 l\n"
     ]
    }
   ],
   "source": [
    "cat /tmp/words.5.g1.r4 |\n",
    "grep -o . |\n",
    "sort |\n",
    "uniq -c |\n",
    "sort -rn |\n",
    "head\n"
   ]
  },
  {
   "cell_type": "markdown",
   "id": "1099ecc3-0796-490b-a31e-8bf13028023a",
   "metadata": {},
   "source": [
    "The '-o' option to grep means to print only the part that matches the regular expression.  Since the regular expression is a single dot (.), it matches a single character.  The result is that each character is printed on its own line."
   ]
  },
  {
   "cell_type": "code",
   "execution_count": 4,
   "id": "c220fcfa-67d1-4084-947e-672ae8348b07",
   "metadata": {
    "vscode": {
     "languageId": "shellscript"
    }
   },
   "outputs": [
    {
     "name": "stdout",
     "output_type": "stream",
     "text": [
      "abear\n",
      "aberr\n",
      "a\n",
      "b\n",
      "e\n",
      "a\n",
      "r\n",
      "a\n",
      "b\n",
      "e\n",
      "r\n",
      "r\n"
     ]
    }
   ],
   "source": [
    "# For example\n",
    "head -2 /tmp/words.5.g1.r4\n",
    "\n",
    "head -2 /tmp/words.5.g1.r4 |\n",
    "grep -o ."
   ]
  },
  {
   "cell_type": "markdown",
   "id": "54e30dbe-f198-4c4e-a3dd-7160ba78e9ff",
   "metadata": {},
   "source": [
    "The sort command groups the letters together and the uniq compresses the repeated lines along with a count.  The second sort orders the lines numerically in reverse order.  And head displays the first 10 lines.\n",
    "\n",
    "As expected A, R, and E are the top hits.  So we will filter for words that contain the next two letters.\n"
   ]
  },
  {
   "cell_type": "code",
   "execution_count": 26,
   "id": "3ffaf3bc",
   "metadata": {
    "vscode": {
     "languageId": "shellscript"
    }
   },
   "outputs": [
    {
     "name": "stdout",
     "output_type": "stream",
     "text": [
      "adret\n",
      "abret\n",
      "atren\n"
     ]
    }
   ],
   "source": [
    "# none of these give results that were considered words\n",
    "cat /tmp/words.5.g1.r4 |\n",
    "grep t |\n",
    "grep i \n",
    "\n",
    "cat /tmp/words.5.g1.r4 |\n",
    "grep t |\n",
    "grep d \n",
    "\n",
    "cat /tmp/words.5.g1.r4 |\n",
    "grep t |\n",
    "grep b \n",
    "\n",
    "cat /tmp/words.5.g1.r4 |\n",
    "grep t |\n",
    "grep m\n",
    "\n",
    "cat /tmp/words.5.g1.r4 |\n",
    "grep t |\n",
    "grep n\n"
   ]
  },
  {
   "cell_type": "code",
   "execution_count": 27,
   "id": "287ae623-f432-479a-b5c6-8beebae3792b",
   "metadata": {
    "vscode": {
     "languageId": "shellscript"
    }
   },
   "outputs": [
    {
     "name": "stdout",
     "output_type": "stream",
     "text": [
      "alert\n",
      "alter\n"
     ]
    }
   ],
   "source": [
    "cat /tmp/words.5.g1.r4 |\n",
    "grep t |\n",
    "grep l\n"
   ]
  },
  {
   "cell_type": "markdown",
   "id": "dd003fb2",
   "metadata": {},
   "source": [
    "Using 'alert' as our second guess, we get these results:\n",
    "\n",
    "position | letter | hint ( color )\n",
    "--- | --- | ---\n",
    "1 | A | 2 ( green )\n",
    "2 | L | 1 ( grey )\n",
    "3 | E | 3 ( yellow )\n",
    "4 | R | 3 ( yellow )\n",
    "5 | T | 1 ( grey )\n"
   ]
  },
  {
   "cell_type": "markdown",
   "id": "6437a2f3-1a7c-430b-beb4-2f488b085b4d",
   "metadata": {},
   "source": [
    "So ...\n",
    "1. E and R exist\n",
    "2. L and T do not exist\n",
    "3. A exists at the correct position\n",
    "4. E and R are in the wrong position\n"
   ]
  },
  {
   "cell_type": "markdown",
   "id": "00f9cf78-2381-4aaa-8ad7-21019a9439ec",
   "metadata": {},
   "source": [
    "Let's try it ...\n"
   ]
  },
  {
   "cell_type": "markdown",
   "id": "30e10f09-7377-417f-ae52-fdea1c4b6355",
   "metadata": {},
   "source": [
    "# Oooooo! That's a Bingo!\n",
    "\n",
    "[Is that the way you say it?](https://youtu.be/Ugpg8XruhVk)\n",
    "\n",
    "\n",
    "<iframe width=\"560\" height=\"315\" src=\"https://www.youtube.com/embed/Ugpg8XruhVk\" title=\"YouTube video player\" frameborder=\"0\" allow=\"accelerometer; autoplay; clipboard-write; encrypted-media; gyroscope; picture-in-picture\" allowfullscreen></iframe>\n",
    "\n"
   ]
  }
 ],
 "metadata": {
  "kernelspec": {
   "display_name": "Bash",
   "language": "bash",
   "name": "bash"
  },
  "language_info": {
   "codemirror_mode": "shell",
   "file_extension": ".sh",
   "mimetype": "text/x-sh",
   "name": "bash"
  }
 },
 "nbformat": 4,
 "nbformat_minor": 5
}
